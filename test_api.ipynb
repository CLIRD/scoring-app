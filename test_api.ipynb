{
 "cells": [
  {
   "cell_type": "code",
   "execution_count": 1,
   "metadata": {},
   "outputs": [],
   "source": [
    "import requests\n",
    "import pandas as pd\n",
    "import json"
   ]
  },
  {
   "cell_type": "code",
   "execution_count": 6,
   "metadata": {},
   "outputs": [],
   "source": [
    "data = pd.read_csv('data\\data_prod.csv')"
   ]
  },
  {
   "cell_type": "code",
   "execution_count": 53,
   "metadata": {},
   "outputs": [],
   "source": [
    "g = requests.get('https://ocr-scoring-app.azurewebsites.net/predict', json = data.loc[[0]].to_json())"
   ]
  },
  {
   "cell_type": "code",
   "execution_count": 7,
   "metadata": {},
   "outputs": [],
   "source": [
    "t = data.loc[[0]].to_json()"
   ]
  },
  {
   "cell_type": "code",
   "execution_count": 11,
   "metadata": {},
   "outputs": [
    {
     "ename": "AttributeError",
     "evalue": "'str' object has no attribute 'dtypes'",
     "output_type": "error",
     "traceback": [
      "\u001b[1;31m---------------------------------------------------------------------------\u001b[0m",
      "\u001b[1;31mAttributeError\u001b[0m                            Traceback (most recent call last)",
      "Cell \u001b[1;32mIn[11], line 1\u001b[0m\n\u001b[1;32m----> 1\u001b[0m t\u001b[39m.\u001b[39;49mdtypes\n",
      "\u001b[1;31mAttributeError\u001b[0m: 'str' object has no attribute 'dtypes'"
     ]
    }
   ],
   "source": [
    "t.dtypes"
   ]
  },
  {
   "cell_type": "code",
   "execution_count": 54,
   "metadata": {},
   "outputs": [
    {
     "data": {
      "text/plain": [
       "'{\"Class\":0,\"Class probabilities\":0.6688207983970642}\\n'"
      ]
     },
     "execution_count": 54,
     "metadata": {},
     "output_type": "execute_result"
    }
   ],
   "source": [
    "g.text"
   ]
  },
  {
   "cell_type": "code",
   "execution_count": 5,
   "metadata": {},
   "outputs": [
    {
     "data": {
      "text/html": [
       "<div>\n",
       "<style scoped>\n",
       "    .dataframe tbody tr th:only-of-type {\n",
       "        vertical-align: middle;\n",
       "    }\n",
       "\n",
       "    .dataframe tbody tr th {\n",
       "        vertical-align: top;\n",
       "    }\n",
       "\n",
       "    .dataframe thead th {\n",
       "        text-align: right;\n",
       "    }\n",
       "</style>\n",
       "<table border=\"1\" class=\"dataframe\">\n",
       "  <thead>\n",
       "    <tr style=\"text-align: right;\">\n",
       "      <th></th>\n",
       "      <th>SK_ID_CURR</th>\n",
       "      <th>TARGET</th>\n",
       "      <th>NAME_CONTRACT_TYPE</th>\n",
       "      <th>CODE_GENDER</th>\n",
       "      <th>FLAG_OWN_CAR</th>\n",
       "      <th>FLAG_OWN_REALTY</th>\n",
       "      <th>CNT_CHILDREN</th>\n",
       "      <th>AMT_INCOME_TOTAL</th>\n",
       "      <th>AMT_CREDIT</th>\n",
       "      <th>AMT_ANNUITY</th>\n",
       "      <th>...</th>\n",
       "      <th>INSTAL_AMT_INSTALMENT_SUM</th>\n",
       "      <th>INSTAL_AMT_PAYMENT_MIN</th>\n",
       "      <th>INSTAL_AMT_PAYMENT_MAX</th>\n",
       "      <th>INSTAL_AMT_PAYMENT_MEAN</th>\n",
       "      <th>INSTAL_AMT_PAYMENT_SUM</th>\n",
       "      <th>INSTAL_DAYS_ENTRY_PAYMENT_MAX</th>\n",
       "      <th>INSTAL_DAYS_ENTRY_PAYMENT_MEAN</th>\n",
       "      <th>INSTAL_DAYS_ENTRY_PAYMENT_SUM</th>\n",
       "      <th>INSTAL_COUNT</th>\n",
       "      <th>CREDIT_CARD_Y_N</th>\n",
       "    </tr>\n",
       "  </thead>\n",
       "  <tbody>\n",
       "    <tr>\n",
       "      <th>0</th>\n",
       "      <td>100001</td>\n",
       "      <td>NaN</td>\n",
       "      <td>Cash loans</td>\n",
       "      <td>F</td>\n",
       "      <td>N</td>\n",
       "      <td>Y</td>\n",
       "      <td>0</td>\n",
       "      <td>135000</td>\n",
       "      <td>568800</td>\n",
       "      <td>20560.5</td>\n",
       "      <td>...</td>\n",
       "      <td>41195.925</td>\n",
       "      <td>3951</td>\n",
       "      <td>17397.9</td>\n",
       "      <td>5885.132143</td>\n",
       "      <td>41195.925</td>\n",
       "      <td>-1628</td>\n",
       "      <td>-2195</td>\n",
       "      <td>-15365</td>\n",
       "      <td>7</td>\n",
       "      <td>1</td>\n",
       "    </tr>\n",
       "  </tbody>\n",
       "</table>\n",
       "<p>1 rows × 454 columns</p>\n",
       "</div>"
      ],
      "text/plain": [
       "   SK_ID_CURR  TARGET NAME_CONTRACT_TYPE CODE_GENDER FLAG_OWN_CAR  \\\n",
       "0      100001     NaN         Cash loans           F            N   \n",
       "\n",
       "  FLAG_OWN_REALTY  CNT_CHILDREN  AMT_INCOME_TOTAL  AMT_CREDIT  AMT_ANNUITY  \\\n",
       "0               Y             0            135000      568800      20560.5   \n",
       "\n",
       "   ...  INSTAL_AMT_INSTALMENT_SUM INSTAL_AMT_PAYMENT_MIN  \\\n",
       "0  ...                  41195.925                   3951   \n",
       "\n",
       "  INSTAL_AMT_PAYMENT_MAX INSTAL_AMT_PAYMENT_MEAN INSTAL_AMT_PAYMENT_SUM  \\\n",
       "0                17397.9             5885.132143              41195.925   \n",
       "\n",
       "  INSTAL_DAYS_ENTRY_PAYMENT_MAX  INSTAL_DAYS_ENTRY_PAYMENT_MEAN  \\\n",
       "0                         -1628                           -2195   \n",
       "\n",
       "   INSTAL_DAYS_ENTRY_PAYMENT_SUM  INSTAL_COUNT  CREDIT_CARD_Y_N  \n",
       "0                         -15365             7                1  \n",
       "\n",
       "[1 rows x 454 columns]"
      ]
     },
     "execution_count": 5,
     "metadata": {},
     "output_type": "execute_result"
    }
   ],
   "source": [
    "pd.read_json(t)"
   ]
  },
  {
   "cell_type": "code",
   "execution_count": 9,
   "metadata": {},
   "outputs": [
    {
     "ename": "KeyError",
     "evalue": "'data'",
     "output_type": "error",
     "traceback": [
      "\u001b[1;31m---------------------------------------------------------------------------\u001b[0m",
      "\u001b[1;31mKeyError\u001b[0m                                  Traceback (most recent call last)",
      "Cell \u001b[1;32mIn[9], line 1\u001b[0m\n\u001b[1;32m----> 1\u001b[0m pd\u001b[39m.\u001b[39mread_json(json\u001b[39m.\u001b[39;49mloads(g\u001b[39m.\u001b[39;49mtext)[\u001b[39m'\u001b[39;49m\u001b[39mdata\u001b[39;49m\u001b[39m'\u001b[39;49m])\n",
      "\u001b[1;31mKeyError\u001b[0m: 'data'"
     ]
    }
   ],
   "source": [
    "pd.read_json(json.loads(g.text)['data'])"
   ]
  },
  {
   "cell_type": "code",
   "execution_count": 55,
   "metadata": {},
   "outputs": [],
   "source": [
    "import joblib "
   ]
  },
  {
   "cell_type": "code",
   "execution_count": 56,
   "metadata": {},
   "outputs": [],
   "source": [
    "pipeline = joblib.load('app/pipeline-xgboost-scoring')"
   ]
  },
  {
   "cell_type": "code",
   "execution_count": 57,
   "metadata": {},
   "outputs": [],
   "source": [
    "location = data.loc[[0]]"
   ]
  },
  {
   "cell_type": "code",
   "execution_count": 59,
   "metadata": {},
   "outputs": [],
   "source": [
    "y_pred = pipeline.predict(location)\n",
    "y_proba = pipeline.predict_proba(location)"
   ]
  },
  {
   "cell_type": "code",
   "execution_count": 73,
   "metadata": {},
   "outputs": [
    {
     "data": {
      "text/plain": [
       "True"
      ]
     },
     "execution_count": 73,
     "metadata": {},
     "output_type": "execute_result"
    }
   ],
   "source": [
    "(y_proba[0][1] >= 0) & (y_proba[0][1] <= 1)"
   ]
  },
  {
   "cell_type": "code",
   "execution_count": 77,
   "metadata": {},
   "outputs": [
    {
     "data": {
      "text/plain": [
       "True"
      ]
     },
     "execution_count": 77,
     "metadata": {},
     "output_type": "execute_result"
    }
   ],
   "source": [
    "(0.1 >= 0) & (0.1 <= 1)"
   ]
  },
  {
   "cell_type": "code",
   "execution_count": 20,
   "metadata": {},
   "outputs": [
    {
     "data": {
      "text/plain": [
       "0.6688207983970642"
      ]
     },
     "execution_count": 20,
     "metadata": {},
     "output_type": "execute_result"
    }
   ],
   "source": [
    "1 - y_proba[0][1]"
   ]
  },
  {
   "cell_type": "code",
   "execution_count": 2,
   "metadata": {},
   "outputs": [
    {
     "data": {
      "text/plain": [
       "(46125, 158)"
      ]
     },
     "execution_count": 2,
     "metadata": {},
     "output_type": "execute_result"
    }
   ],
   "source": [
    "pd.read_csv('data\\X_train.csv').shape"
   ]
  },
  {
   "cell_type": "code",
   "execution_count": 29,
   "metadata": {},
   "outputs": [],
   "source": [
    "h = pd.read_csv('data\\X_test.csv')"
   ]
  },
  {
   "cell_type": "code",
   "execution_count": 16,
   "metadata": {},
   "outputs": [],
   "source": [
    "import pickle\n",
    "with open('app/columns_name.pickle', 'rb') as f:\n",
    "    nums_columns_name = pickle.load(f)"
   ]
  },
  {
   "cell_type": "code",
   "execution_count": 32,
   "metadata": {},
   "outputs": [
    {
     "data": {
      "text/plain": [
       "False"
      ]
     },
     "execution_count": 32,
     "metadata": {},
     "output_type": "execute_result"
    }
   ],
   "source": [
    "nums_columns_name in h.columns.tolist()"
   ]
  },
  {
   "cell_type": "code",
   "execution_count": 36,
   "metadata": {},
   "outputs": [
    {
     "data": {
      "text/plain": [
       "False"
      ]
     },
     "execution_count": 36,
     "metadata": {},
     "output_type": "execute_result"
    }
   ],
   "source": [
    "h.columns.tolist() in nums_columns_name"
   ]
  },
  {
   "cell_type": "code",
   "execution_count": 44,
   "metadata": {},
   "outputs": [
    {
     "data": {
      "text/plain": [
       "False"
      ]
     },
     "execution_count": 44,
     "metadata": {},
     "output_type": "execute_result"
    }
   ],
   "source": [
    "['CODE_GENDER', 'INSTAL_COUNT'] in h.columns.tolist()"
   ]
  },
  {
   "cell_type": "code",
   "execution_count": 45,
   "metadata": {},
   "outputs": [
    {
     "data": {
      "text/plain": [
       "False"
      ]
     },
     "execution_count": 45,
     "metadata": {},
     "output_type": "execute_result"
    }
   ],
   "source": [
    "set(h.columns.tolist()).issubset(nums_columns_name)"
   ]
  },
  {
   "cell_type": "code",
   "execution_count": 37,
   "metadata": {},
   "outputs": [
    {
     "data": {
      "text/plain": [
       "False"
      ]
     },
     "execution_count": 37,
     "metadata": {},
     "output_type": "execute_result"
    }
   ],
   "source": [
    "all(item in nums_columns_name for item in h.columns.tolist())"
   ]
  },
  {
   "cell_type": "code",
   "execution_count": 49,
   "metadata": {},
   "outputs": [
    {
     "data": {
      "text/plain": [
       "True"
      ]
     },
     "execution_count": 49,
     "metadata": {},
     "output_type": "execute_result"
    }
   ],
   "source": [
    "my_list = ['CODE_GENDER', 'INSTAL_COUNT']\n",
    "other_list = ['CODE_GENDER', 'AMT_INCOME_TOTAL', 'AMT_CREDIT', 'INSTAL_COUNT']\n",
    "\n",
    "all(item in h.columns.tolist() for item in nums_columns_name)"
   ]
  },
  {
   "cell_type": "code",
   "execution_count": 51,
   "metadata": {},
   "outputs": [],
   "source": [
    "columns = h.columns"
   ]
  },
  {
   "cell_type": "code",
   "execution_count": 52,
   "metadata": {},
   "outputs": [
    {
     "data": {
      "text/plain": [
       "['NAME_CONTRACT_TYPE',\n",
       " 'CODE_GENDER',\n",
       " 'FLAG_OWN_CAR',\n",
       " 'FLAG_OWN_REALTY',\n",
       " 'CNT_CHILDREN',\n",
       " 'AMT_INCOME_TOTAL',\n",
       " 'AMT_CREDIT',\n",
       " 'AMT_ANNUITY',\n",
       " 'AMT_GOODS_PRICE',\n",
       " 'NAME_TYPE_SUITE',\n",
       " 'NAME_INCOME_TYPE',\n",
       " 'NAME_EDUCATION_TYPE',\n",
       " 'NAME_FAMILY_STATUS',\n",
       " 'NAME_HOUSING_TYPE',\n",
       " 'REGION_POPULATION_RELATIVE',\n",
       " 'DAYS_BIRTH',\n",
       " 'DAYS_EMPLOYED',\n",
       " 'DAYS_REGISTRATION',\n",
       " 'DAYS_ID_PUBLISH',\n",
       " 'FLAG_MOBIL',\n",
       " 'FLAG_EMP_PHONE',\n",
       " 'FLAG_WORK_PHONE',\n",
       " 'FLAG_CONT_MOBILE',\n",
       " 'FLAG_PHONE',\n",
       " 'FLAG_EMAIL',\n",
       " 'OCCUPATION_TYPE',\n",
       " 'CNT_FAM_MEMBERS',\n",
       " 'REGION_RATING_CLIENT',\n",
       " 'REGION_RATING_CLIENT_W_CITY',\n",
       " 'WEEKDAY_APPR_PROCESS_START',\n",
       " 'HOUR_APPR_PROCESS_START',\n",
       " 'REG_REGION_NOT_LIVE_REGION',\n",
       " 'REG_REGION_NOT_WORK_REGION',\n",
       " 'LIVE_REGION_NOT_WORK_REGION',\n",
       " 'REG_CITY_NOT_LIVE_CITY',\n",
       " 'REG_CITY_NOT_WORK_CITY',\n",
       " 'LIVE_CITY_NOT_WORK_CITY',\n",
       " 'ORGANIZATION_TYPE',\n",
       " 'EXT_SOURCE_2',\n",
       " 'EXT_SOURCE_3',\n",
       " 'YEARS_BEGINEXPLUATATION_AVG',\n",
       " 'FLOORSMAX_AVG',\n",
       " 'LIVINGAREA_AVG',\n",
       " 'YEARS_BEGINEXPLUATATION_MODE',\n",
       " 'FLOORSMAX_MODE',\n",
       " 'LIVINGAREA_MODE',\n",
       " 'YEARS_BEGINEXPLUATATION_MEDI',\n",
       " 'FLOORSMAX_MEDI',\n",
       " 'LIVINGAREA_MEDI',\n",
       " 'HOUSETYPE_MODE',\n",
       " 'TOTALAREA_MODE',\n",
       " 'EMERGENCYSTATE_MODE',\n",
       " 'OBS_30_CNT_SOCIAL_CIRCLE',\n",
       " 'DEF_30_CNT_SOCIAL_CIRCLE',\n",
       " 'OBS_60_CNT_SOCIAL_CIRCLE',\n",
       " 'DEF_60_CNT_SOCIAL_CIRCLE',\n",
       " 'DAYS_LAST_PHONE_CHANGE',\n",
       " 'FLAG_DOCUMENT_2',\n",
       " 'FLAG_DOCUMENT_3',\n",
       " 'FLAG_DOCUMENT_4',\n",
       " 'FLAG_DOCUMENT_5',\n",
       " 'FLAG_DOCUMENT_6',\n",
       " 'FLAG_DOCUMENT_7',\n",
       " 'FLAG_DOCUMENT_8',\n",
       " 'FLAG_DOCUMENT_9',\n",
       " 'FLAG_DOCUMENT_10',\n",
       " 'FLAG_DOCUMENT_11',\n",
       " 'FLAG_DOCUMENT_12',\n",
       " 'FLAG_DOCUMENT_13',\n",
       " 'FLAG_DOCUMENT_14',\n",
       " 'FLAG_DOCUMENT_15',\n",
       " 'FLAG_DOCUMENT_16',\n",
       " 'FLAG_DOCUMENT_17',\n",
       " 'FLAG_DOCUMENT_18',\n",
       " 'FLAG_DOCUMENT_19',\n",
       " 'FLAG_DOCUMENT_20',\n",
       " 'FLAG_DOCUMENT_21',\n",
       " 'AMT_REQ_CREDIT_BUREAU_HOUR',\n",
       " 'AMT_REQ_CREDIT_BUREAU_DAY',\n",
       " 'AMT_REQ_CREDIT_BUREAU_WEEK',\n",
       " 'AMT_REQ_CREDIT_BUREAU_MON',\n",
       " 'AMT_REQ_CREDIT_BUREAU_QRT',\n",
       " 'AMT_REQ_CREDIT_BUREAU_YEAR',\n",
       " 'CNT_CHILDREN_CAT',\n",
       " 'CNT_FAM_MEMBERS_CAT',\n",
       " 'DAYS_EMPLOYED_PERC',\n",
       " 'INCOME_CREDIT_PERC',\n",
       " 'ANNUITY_PERC',\n",
       " 'PAYMENT_RATE',\n",
       " 'CREDIT_TO_GOODS_RATIO',\n",
       " 'NEW_INC_PER_CHLD',\n",
       " 'EXT_SOURCES_MEAN',\n",
       " 'EXT_SCORES_STD',\n",
       " 'YEARS_EMPLOYED',\n",
       " 'YEARS_BIRTH',\n",
       " 'YEARS_REGISTRATION',\n",
       " 'YEARS_ID_PUBLISH',\n",
       " 'PHONE_TO_BIRTH_RATIO',\n",
       " 'PHONE_TO_BIRTH_RATIO_EMPLOYER',\n",
       " 'BURO_DAYS_CREDIT_MIN',\n",
       " 'BURO_DAYS_CREDIT_MAX',\n",
       " 'BURO_DAYS_CREDIT_MEAN',\n",
       " 'BURO_DAYS_CREDIT_VAR',\n",
       " 'BURO_DAYS_CREDIT_ENDDATE_MIN',\n",
       " 'BURO_DAYS_CREDIT_ENDDATE_MAX',\n",
       " 'BURO_DAYS_CREDIT_ENDDATE_MEAN',\n",
       " 'BURO_DAYS_CREDIT_UPDATE_MEAN',\n",
       " 'BURO_CREDIT_DAY_OVERDUE_MAX',\n",
       " 'BURO_CREDIT_DAY_OVERDUE_MEAN',\n",
       " 'BURO_AMT_CREDIT_MAX_OVERDUE_MEAN',\n",
       " 'BURO_AMT_CREDIT_SUM_MAX',\n",
       " 'BURO_AMT_CREDIT_SUM_MEAN',\n",
       " 'BURO_AMT_CREDIT_SUM_SUM',\n",
       " 'BURO_AMT_CREDIT_SUM_DEBT_MAX',\n",
       " 'BURO_AMT_CREDIT_SUM_DEBT_MEAN',\n",
       " 'BURO_AMT_CREDIT_SUM_DEBT_SUM',\n",
       " 'BURO_AMT_CREDIT_SUM_OVERDUE_MEAN',\n",
       " 'BURO_AMT_CREDIT_SUM_LIMIT_MEAN',\n",
       " 'BURO_AMT_CREDIT_SUM_LIMIT_SUM',\n",
       " 'BURO_CNT_CREDIT_PROLONG_SUM',\n",
       " 'BURO_MONTHS_BALANCE_SIZE_SUM',\n",
       " 'BURO_CREDIT_ACTIVE_Active_MEAN',\n",
       " 'BURO_CREDIT_ACTIVE_Bad debt_MEAN',\n",
       " 'BURO_CREDIT_ACTIVE_Closed_MEAN',\n",
       " 'BURO_CREDIT_ACTIVE_Sold_MEAN',\n",
       " 'BURO_CREDIT_ACTIVE_nan_MEAN',\n",
       " 'BURO_CREDIT_CURRENCY_currency 1_MEAN',\n",
       " 'BURO_CREDIT_CURRENCY_currency 2_MEAN',\n",
       " 'BURO_CREDIT_CURRENCY_currency 3_MEAN',\n",
       " 'BURO_CREDIT_CURRENCY_currency 4_MEAN',\n",
       " 'BURO_CREDIT_CURRENCY_nan_MEAN',\n",
       " 'BURO_CREDIT_TYPE_Another type of loan_MEAN',\n",
       " 'BURO_CREDIT_TYPE_Car loan_MEAN',\n",
       " 'BURO_CREDIT_TYPE_Cash loan (non-earmarked)_MEAN',\n",
       " 'BURO_CREDIT_TYPE_Consumer credit_MEAN',\n",
       " 'BURO_CREDIT_TYPE_Credit card_MEAN',\n",
       " 'BURO_CREDIT_TYPE_Interbank credit_MEAN',\n",
       " 'BURO_CREDIT_TYPE_Loan for business development_MEAN',\n",
       " 'BURO_CREDIT_TYPE_Loan for purchase of shares (margin lending)_MEAN',\n",
       " 'BURO_CREDIT_TYPE_Loan for the purchase of equipment_MEAN',\n",
       " 'BURO_CREDIT_TYPE_Loan for working capital replenishment_MEAN',\n",
       " 'BURO_CREDIT_TYPE_Microloan_MEAN',\n",
       " 'BURO_CREDIT_TYPE_Mobile operator loan_MEAN',\n",
       " 'BURO_CREDIT_TYPE_Mortgage_MEAN',\n",
       " 'BURO_CREDIT_TYPE_Real estate loan_MEAN',\n",
       " 'BURO_CREDIT_TYPE_Unknown type of loan_MEAN',\n",
       " 'BURO_CREDIT_TYPE_nan_MEAN',\n",
       " 'ACTIVE_DAYS_CREDIT_MIN',\n",
       " 'ACTIVE_DAYS_CREDIT_MAX',\n",
       " 'ACTIVE_DAYS_CREDIT_MEAN',\n",
       " 'ACTIVE_DAYS_CREDIT_ENDDATE_MIN',\n",
       " 'ACTIVE_DAYS_CREDIT_ENDDATE_MAX',\n",
       " 'ACTIVE_DAYS_CREDIT_ENDDATE_MEAN',\n",
       " 'ACTIVE_DAYS_CREDIT_UPDATE_MEAN',\n",
       " 'ACTIVE_CREDIT_DAY_OVERDUE_MAX',\n",
       " 'ACTIVE_CREDIT_DAY_OVERDUE_MEAN',\n",
       " 'ACTIVE_AMT_CREDIT_SUM_MAX',\n",
       " 'ACTIVE_AMT_CREDIT_SUM_MEAN',\n",
       " 'ACTIVE_AMT_CREDIT_SUM_SUM',\n",
       " 'ACTIVE_AMT_CREDIT_SUM_DEBT_MAX',\n",
       " 'ACTIVE_AMT_CREDIT_SUM_DEBT_MEAN',\n",
       " 'ACTIVE_AMT_CREDIT_SUM_DEBT_SUM',\n",
       " 'ACTIVE_AMT_CREDIT_SUM_OVERDUE_MEAN',\n",
       " 'ACTIVE_AMT_CREDIT_SUM_LIMIT_MEAN',\n",
       " 'ACTIVE_AMT_CREDIT_SUM_LIMIT_SUM',\n",
       " 'ACTIVE_CNT_CREDIT_PROLONG_SUM',\n",
       " 'ACTIVE_MONTHS_BALANCE_SIZE_SUM',\n",
       " 'CLOSED_DAYS_CREDIT_MIN',\n",
       " 'CLOSED_DAYS_CREDIT_MAX',\n",
       " 'CLOSED_DAYS_CREDIT_MEAN',\n",
       " 'CLOSED_DAYS_CREDIT_VAR',\n",
       " 'CLOSED_DAYS_CREDIT_ENDDATE_MIN',\n",
       " 'CLOSED_DAYS_CREDIT_ENDDATE_MAX',\n",
       " 'CLOSED_DAYS_CREDIT_ENDDATE_MEAN',\n",
       " 'CLOSED_DAYS_CREDIT_UPDATE_MEAN',\n",
       " 'CLOSED_CREDIT_DAY_OVERDUE_MAX',\n",
       " 'CLOSED_CREDIT_DAY_OVERDUE_MEAN',\n",
       " 'CLOSED_AMT_CREDIT_SUM_MAX',\n",
       " 'CLOSED_AMT_CREDIT_SUM_MEAN',\n",
       " 'CLOSED_AMT_CREDIT_SUM_SUM',\n",
       " 'CLOSED_AMT_CREDIT_SUM_DEBT_MAX',\n",
       " 'CLOSED_AMT_CREDIT_SUM_DEBT_MEAN',\n",
       " 'CLOSED_AMT_CREDIT_SUM_DEBT_SUM',\n",
       " 'CLOSED_AMT_CREDIT_SUM_OVERDUE_MEAN',\n",
       " 'CLOSED_AMT_CREDIT_SUM_LIMIT_MEAN',\n",
       " 'CLOSED_AMT_CREDIT_SUM_LIMIT_SUM',\n",
       " 'CLOSED_CNT_CREDIT_PROLONG_SUM',\n",
       " 'CLOSED_MONTHS_BALANCE_SIZE_SUM',\n",
       " 'PREV_AMT_ANNUITY_MIN',\n",
       " 'PREV_AMT_ANNUITY_MAX',\n",
       " 'PREV_AMT_ANNUITY_MEAN',\n",
       " 'PREV_AMT_APPLICATION_MIN',\n",
       " 'PREV_AMT_APPLICATION_MAX',\n",
       " 'PREV_AMT_APPLICATION_MEAN',\n",
       " 'PREV_AMT_CREDIT_MIN',\n",
       " 'PREV_AMT_CREDIT_MAX',\n",
       " 'PREV_AMT_CREDIT_MEAN',\n",
       " 'PREV_APP_CREDIT_PERC_MIN',\n",
       " 'PREV_APP_CREDIT_PERC_MAX',\n",
       " 'PREV_APP_CREDIT_PERC_MEAN',\n",
       " 'PREV_APP_CREDIT_PERC_VAR',\n",
       " 'PREV_AMT_DOWN_PAYMENT_MIN',\n",
       " 'PREV_AMT_DOWN_PAYMENT_MAX',\n",
       " 'PREV_AMT_DOWN_PAYMENT_MEAN',\n",
       " 'PREV_AMT_GOODS_PRICE_MIN',\n",
       " 'PREV_AMT_GOODS_PRICE_MAX',\n",
       " 'PREV_AMT_GOODS_PRICE_MEAN',\n",
       " 'PREV_HOUR_APPR_PROCESS_START_MIN',\n",
       " 'PREV_HOUR_APPR_PROCESS_START_MAX',\n",
       " 'PREV_HOUR_APPR_PROCESS_START_MEAN',\n",
       " 'PREV_RATE_DOWN_PAYMENT_MIN',\n",
       " 'PREV_RATE_DOWN_PAYMENT_MAX',\n",
       " 'PREV_RATE_DOWN_PAYMENT_MEAN',\n",
       " 'PREV_DAYS_DECISION_MIN',\n",
       " 'PREV_DAYS_DECISION_MAX',\n",
       " 'PREV_DAYS_DECISION_MEAN',\n",
       " 'PREV_CNT_PAYMENT_MEAN',\n",
       " 'PREV_CNT_PAYMENT_SUM',\n",
       " 'PREV_NAME_CONTRACT_TYPE_Cash loans_MEAN',\n",
       " 'PREV_NAME_CONTRACT_TYPE_Consumer loans_MEAN',\n",
       " 'PREV_NAME_CONTRACT_TYPE_Revolving loans_MEAN',\n",
       " 'PREV_NAME_CONTRACT_TYPE_XNA_MEAN',\n",
       " 'PREV_NAME_CONTRACT_TYPE_nan_MEAN',\n",
       " 'PREV_WEEKDAY_APPR_PROCESS_START_FRIDAY_MEAN',\n",
       " 'PREV_WEEKDAY_APPR_PROCESS_START_MONDAY_MEAN',\n",
       " 'PREV_WEEKDAY_APPR_PROCESS_START_SATURDAY_MEAN',\n",
       " 'PREV_WEEKDAY_APPR_PROCESS_START_SUNDAY_MEAN',\n",
       " 'PREV_WEEKDAY_APPR_PROCESS_START_THURSDAY_MEAN',\n",
       " 'PREV_WEEKDAY_APPR_PROCESS_START_TUESDAY_MEAN',\n",
       " 'PREV_WEEKDAY_APPR_PROCESS_START_WEDNESDAY_MEAN',\n",
       " 'PREV_WEEKDAY_APPR_PROCESS_START_nan_MEAN',\n",
       " 'PREV_FLAG_LAST_APPL_PER_CONTRACT_N_MEAN',\n",
       " 'PREV_FLAG_LAST_APPL_PER_CONTRACT_Y_MEAN',\n",
       " 'PREV_FLAG_LAST_APPL_PER_CONTRACT_nan_MEAN',\n",
       " 'PREV_NAME_CASH_LOAN_PURPOSE_Building a house or an annex_MEAN',\n",
       " 'PREV_NAME_CASH_LOAN_PURPOSE_Business development_MEAN',\n",
       " 'PREV_NAME_CASH_LOAN_PURPOSE_Buying a garage_MEAN',\n",
       " 'PREV_NAME_CASH_LOAN_PURPOSE_Buying a holiday home / land_MEAN',\n",
       " 'PREV_NAME_CASH_LOAN_PURPOSE_Buying a home_MEAN',\n",
       " 'PREV_NAME_CASH_LOAN_PURPOSE_Buying a new car_MEAN',\n",
       " 'PREV_NAME_CASH_LOAN_PURPOSE_Buying a used car_MEAN',\n",
       " 'PREV_NAME_CASH_LOAN_PURPOSE_Car repairs_MEAN',\n",
       " 'PREV_NAME_CASH_LOAN_PURPOSE_Education_MEAN',\n",
       " 'PREV_NAME_CASH_LOAN_PURPOSE_Everyday expenses_MEAN',\n",
       " 'PREV_NAME_CASH_LOAN_PURPOSE_Furniture_MEAN',\n",
       " 'PREV_NAME_CASH_LOAN_PURPOSE_Gasification / water supply_MEAN',\n",
       " 'PREV_NAME_CASH_LOAN_PURPOSE_Hobby_MEAN',\n",
       " 'PREV_NAME_CASH_LOAN_PURPOSE_Journey_MEAN',\n",
       " 'PREV_NAME_CASH_LOAN_PURPOSE_Medicine_MEAN',\n",
       " 'PREV_NAME_CASH_LOAN_PURPOSE_Money for a third person_MEAN',\n",
       " 'PREV_NAME_CASH_LOAN_PURPOSE_Other_MEAN',\n",
       " 'PREV_NAME_CASH_LOAN_PURPOSE_Payments on other loans_MEAN',\n",
       " 'PREV_NAME_CASH_LOAN_PURPOSE_Purchase of electronic equipment_MEAN',\n",
       " 'PREV_NAME_CASH_LOAN_PURPOSE_Refusal to name the goal_MEAN',\n",
       " 'PREV_NAME_CASH_LOAN_PURPOSE_Repairs_MEAN',\n",
       " 'PREV_NAME_CASH_LOAN_PURPOSE_Urgent needs_MEAN',\n",
       " 'PREV_NAME_CASH_LOAN_PURPOSE_Wedding / gift / holiday_MEAN',\n",
       " 'PREV_NAME_CASH_LOAN_PURPOSE_XAP_MEAN',\n",
       " 'PREV_NAME_CASH_LOAN_PURPOSE_XNA_MEAN',\n",
       " 'PREV_NAME_CASH_LOAN_PURPOSE_nan_MEAN',\n",
       " 'PREV_NAME_CONTRACT_STATUS_Approved_MEAN',\n",
       " 'PREV_NAME_CONTRACT_STATUS_Canceled_MEAN',\n",
       " 'PREV_NAME_CONTRACT_STATUS_Refused_MEAN',\n",
       " 'PREV_NAME_CONTRACT_STATUS_Unused offer_MEAN',\n",
       " 'PREV_NAME_CONTRACT_STATUS_nan_MEAN',\n",
       " 'PREV_NAME_PAYMENT_TYPE_Cash through the bank_MEAN',\n",
       " 'PREV_NAME_PAYMENT_TYPE_Cashless from the account of the employer_MEAN',\n",
       " 'PREV_NAME_PAYMENT_TYPE_Non-cash from your account_MEAN',\n",
       " 'PREV_NAME_PAYMENT_TYPE_XNA_MEAN',\n",
       " 'PREV_NAME_PAYMENT_TYPE_nan_MEAN',\n",
       " 'PREV_CODE_REJECT_REASON_CLIENT_MEAN',\n",
       " 'PREV_CODE_REJECT_REASON_HC_MEAN',\n",
       " 'PREV_CODE_REJECT_REASON_LIMIT_MEAN',\n",
       " 'PREV_CODE_REJECT_REASON_SCO_MEAN',\n",
       " 'PREV_CODE_REJECT_REASON_SCOFR_MEAN',\n",
       " 'PREV_CODE_REJECT_REASON_SYSTEM_MEAN',\n",
       " 'PREV_CODE_REJECT_REASON_VERIF_MEAN',\n",
       " 'PREV_CODE_REJECT_REASON_XAP_MEAN',\n",
       " 'PREV_CODE_REJECT_REASON_XNA_MEAN',\n",
       " 'PREV_CODE_REJECT_REASON_nan_MEAN',\n",
       " 'PREV_NAME_TYPE_SUITE_Children_MEAN',\n",
       " 'PREV_NAME_TYPE_SUITE_Family_MEAN',\n",
       " 'PREV_NAME_TYPE_SUITE_Group of people_MEAN',\n",
       " 'PREV_NAME_TYPE_SUITE_Other_A_MEAN',\n",
       " 'PREV_NAME_TYPE_SUITE_Other_B_MEAN',\n",
       " 'PREV_NAME_TYPE_SUITE_Spouse, partner_MEAN',\n",
       " 'PREV_NAME_TYPE_SUITE_Unaccompanied_MEAN',\n",
       " 'PREV_NAME_TYPE_SUITE_nan_MEAN',\n",
       " 'PREV_NAME_CLIENT_TYPE_New_MEAN',\n",
       " 'PREV_NAME_CLIENT_TYPE_Refreshed_MEAN',\n",
       " 'PREV_NAME_CLIENT_TYPE_Repeater_MEAN',\n",
       " 'PREV_NAME_CLIENT_TYPE_XNA_MEAN',\n",
       " 'PREV_NAME_CLIENT_TYPE_nan_MEAN',\n",
       " 'PREV_NAME_GOODS_CATEGORY_Additional Service_MEAN',\n",
       " 'PREV_NAME_GOODS_CATEGORY_Animals_MEAN',\n",
       " 'PREV_NAME_GOODS_CATEGORY_Audio/Video_MEAN',\n",
       " 'PREV_NAME_GOODS_CATEGORY_Auto Accessories_MEAN',\n",
       " 'PREV_NAME_GOODS_CATEGORY_Clothing and Accessories_MEAN',\n",
       " 'PREV_NAME_GOODS_CATEGORY_Computers_MEAN',\n",
       " 'PREV_NAME_GOODS_CATEGORY_Construction Materials_MEAN',\n",
       " 'PREV_NAME_GOODS_CATEGORY_Consumer Electronics_MEAN',\n",
       " 'PREV_NAME_GOODS_CATEGORY_Direct Sales_MEAN',\n",
       " 'PREV_NAME_GOODS_CATEGORY_Education_MEAN',\n",
       " 'PREV_NAME_GOODS_CATEGORY_Fitness_MEAN',\n",
       " 'PREV_NAME_GOODS_CATEGORY_Furniture_MEAN',\n",
       " 'PREV_NAME_GOODS_CATEGORY_Gardening_MEAN',\n",
       " 'PREV_NAME_GOODS_CATEGORY_Homewares_MEAN',\n",
       " 'PREV_NAME_GOODS_CATEGORY_House Construction_MEAN',\n",
       " 'PREV_NAME_GOODS_CATEGORY_Insurance_MEAN',\n",
       " 'PREV_NAME_GOODS_CATEGORY_Jewelry_MEAN',\n",
       " 'PREV_NAME_GOODS_CATEGORY_Medical Supplies_MEAN',\n",
       " 'PREV_NAME_GOODS_CATEGORY_Medicine_MEAN',\n",
       " 'PREV_NAME_GOODS_CATEGORY_Mobile_MEAN',\n",
       " 'PREV_NAME_GOODS_CATEGORY_Office Appliances_MEAN',\n",
       " 'PREV_NAME_GOODS_CATEGORY_Other_MEAN',\n",
       " 'PREV_NAME_GOODS_CATEGORY_Photo / Cinema Equipment_MEAN',\n",
       " 'PREV_NAME_GOODS_CATEGORY_Sport and Leisure_MEAN',\n",
       " 'PREV_NAME_GOODS_CATEGORY_Tourism_MEAN',\n",
       " 'PREV_NAME_GOODS_CATEGORY_Vehicles_MEAN',\n",
       " 'PREV_NAME_GOODS_CATEGORY_Weapon_MEAN',\n",
       " 'PREV_NAME_GOODS_CATEGORY_XNA_MEAN',\n",
       " 'PREV_NAME_GOODS_CATEGORY_nan_MEAN',\n",
       " 'PREV_NAME_PORTFOLIO_Cards_MEAN',\n",
       " 'PREV_NAME_PORTFOLIO_Cars_MEAN',\n",
       " 'PREV_NAME_PORTFOLIO_Cash_MEAN',\n",
       " 'PREV_NAME_PORTFOLIO_POS_MEAN',\n",
       " 'PREV_NAME_PORTFOLIO_XNA_MEAN',\n",
       " 'PREV_NAME_PORTFOLIO_nan_MEAN',\n",
       " 'PREV_NAME_PRODUCT_TYPE_XNA_MEAN',\n",
       " 'PREV_NAME_PRODUCT_TYPE_walk-in_MEAN',\n",
       " 'PREV_NAME_PRODUCT_TYPE_x-sell_MEAN',\n",
       " 'PREV_NAME_PRODUCT_TYPE_nan_MEAN',\n",
       " 'PREV_CHANNEL_TYPE_AP+ (Cash loan)_MEAN',\n",
       " 'PREV_CHANNEL_TYPE_Car dealer_MEAN',\n",
       " 'PREV_CHANNEL_TYPE_Channel of corporate sales_MEAN',\n",
       " 'PREV_CHANNEL_TYPE_Contact center_MEAN',\n",
       " 'PREV_CHANNEL_TYPE_Country-wide_MEAN',\n",
       " 'PREV_CHANNEL_TYPE_Credit and cash offices_MEAN',\n",
       " 'PREV_CHANNEL_TYPE_Regional / Local_MEAN',\n",
       " 'PREV_CHANNEL_TYPE_Stone_MEAN',\n",
       " 'PREV_CHANNEL_TYPE_nan_MEAN',\n",
       " 'PREV_NAME_SELLER_INDUSTRY_Auto technology_MEAN',\n",
       " 'PREV_NAME_SELLER_INDUSTRY_Clothing_MEAN',\n",
       " 'PREV_NAME_SELLER_INDUSTRY_Connectivity_MEAN',\n",
       " 'PREV_NAME_SELLER_INDUSTRY_Construction_MEAN',\n",
       " 'PREV_NAME_SELLER_INDUSTRY_Consumer electronics_MEAN',\n",
       " 'PREV_NAME_SELLER_INDUSTRY_Furniture_MEAN',\n",
       " 'PREV_NAME_SELLER_INDUSTRY_Industry_MEAN',\n",
       " 'PREV_NAME_SELLER_INDUSTRY_Jewelry_MEAN',\n",
       " 'PREV_NAME_SELLER_INDUSTRY_MLM partners_MEAN',\n",
       " 'PREV_NAME_SELLER_INDUSTRY_Tourism_MEAN',\n",
       " 'PREV_NAME_SELLER_INDUSTRY_XNA_MEAN',\n",
       " 'PREV_NAME_SELLER_INDUSTRY_nan_MEAN',\n",
       " 'PREV_NAME_YIELD_GROUP_XNA_MEAN',\n",
       " 'PREV_NAME_YIELD_GROUP_high_MEAN',\n",
       " 'PREV_NAME_YIELD_GROUP_low_action_MEAN',\n",
       " 'PREV_NAME_YIELD_GROUP_low_normal_MEAN',\n",
       " 'PREV_NAME_YIELD_GROUP_middle_MEAN',\n",
       " 'PREV_NAME_YIELD_GROUP_nan_MEAN',\n",
       " 'PREV_PRODUCT_COMBINATION_Card Street_MEAN',\n",
       " 'PREV_PRODUCT_COMBINATION_Card X-Sell_MEAN',\n",
       " 'PREV_PRODUCT_COMBINATION_Cash_MEAN',\n",
       " 'PREV_PRODUCT_COMBINATION_Cash Street: high_MEAN',\n",
       " 'PREV_PRODUCT_COMBINATION_Cash Street: low_MEAN',\n",
       " 'PREV_PRODUCT_COMBINATION_Cash Street: middle_MEAN',\n",
       " 'PREV_PRODUCT_COMBINATION_Cash X-Sell: high_MEAN',\n",
       " 'PREV_PRODUCT_COMBINATION_Cash X-Sell: low_MEAN',\n",
       " 'PREV_PRODUCT_COMBINATION_Cash X-Sell: middle_MEAN',\n",
       " 'PREV_PRODUCT_COMBINATION_POS household with interest_MEAN',\n",
       " 'PREV_PRODUCT_COMBINATION_POS household without interest_MEAN',\n",
       " 'PREV_PRODUCT_COMBINATION_POS industry with interest_MEAN',\n",
       " 'PREV_PRODUCT_COMBINATION_POS industry without interest_MEAN',\n",
       " 'PREV_PRODUCT_COMBINATION_POS mobile with interest_MEAN',\n",
       " 'PREV_PRODUCT_COMBINATION_POS mobile without interest_MEAN',\n",
       " 'PREV_PRODUCT_COMBINATION_POS other with interest_MEAN',\n",
       " 'PREV_PRODUCT_COMBINATION_POS others without interest_MEAN',\n",
       " 'PREV_PRODUCT_COMBINATION_nan_MEAN',\n",
       " 'APPROVED_AMT_ANNUITY_MIN',\n",
       " 'APPROVED_AMT_ANNUITY_MAX',\n",
       " 'APPROVED_AMT_ANNUITY_MEAN',\n",
       " 'APPROVED_AMT_APPLICATION_MIN',\n",
       " 'APPROVED_AMT_APPLICATION_MAX',\n",
       " 'APPROVED_AMT_APPLICATION_MEAN',\n",
       " 'APPROVED_AMT_CREDIT_MIN',\n",
       " 'APPROVED_AMT_CREDIT_MAX',\n",
       " 'APPROVED_AMT_CREDIT_MEAN',\n",
       " 'APPROVED_APP_CREDIT_PERC_MIN',\n",
       " 'APPROVED_APP_CREDIT_PERC_MAX',\n",
       " 'APPROVED_APP_CREDIT_PERC_MEAN',\n",
       " 'APPROVED_APP_CREDIT_PERC_VAR',\n",
       " 'APPROVED_AMT_DOWN_PAYMENT_MIN',\n",
       " 'APPROVED_AMT_DOWN_PAYMENT_MAX',\n",
       " 'APPROVED_AMT_DOWN_PAYMENT_MEAN',\n",
       " 'APPROVED_AMT_GOODS_PRICE_MIN',\n",
       " 'APPROVED_AMT_GOODS_PRICE_MAX',\n",
       " 'APPROVED_AMT_GOODS_PRICE_MEAN',\n",
       " 'APPROVED_HOUR_APPR_PROCESS_START_MIN',\n",
       " 'APPROVED_HOUR_APPR_PROCESS_START_MAX',\n",
       " 'APPROVED_HOUR_APPR_PROCESS_START_MEAN',\n",
       " 'APPROVED_RATE_DOWN_PAYMENT_MIN',\n",
       " 'APPROVED_RATE_DOWN_PAYMENT_MAX',\n",
       " 'APPROVED_RATE_DOWN_PAYMENT_MEAN',\n",
       " 'APPROVED_DAYS_DECISION_MIN',\n",
       " 'APPROVED_DAYS_DECISION_MAX',\n",
       " 'APPROVED_DAYS_DECISION_MEAN',\n",
       " 'APPROVED_CNT_PAYMENT_MEAN',\n",
       " 'APPROVED_CNT_PAYMENT_SUM',\n",
       " 'POS_MONTHS_BALANCE_MAX',\n",
       " 'POS_MONTHS_BALANCE_MEAN',\n",
       " 'POS_MONTHS_BALANCE_SIZE',\n",
       " 'POS_SK_DPD_MAX',\n",
       " 'POS_SK_DPD_MEAN',\n",
       " 'POS_SK_DPD_DEF_MAX',\n",
       " 'POS_SK_DPD_DEF_MEAN',\n",
       " 'POS_NAME_CONTRACT_STATUS_Active_MEAN',\n",
       " 'POS_NAME_CONTRACT_STATUS_Amortized debt_MEAN',\n",
       " 'POS_NAME_CONTRACT_STATUS_Approved_MEAN',\n",
       " 'POS_NAME_CONTRACT_STATUS_Canceled_MEAN',\n",
       " 'POS_NAME_CONTRACT_STATUS_Completed_MEAN',\n",
       " 'POS_NAME_CONTRACT_STATUS_Demand_MEAN',\n",
       " 'POS_NAME_CONTRACT_STATUS_Returned to the store_MEAN',\n",
       " 'POS_NAME_CONTRACT_STATUS_Signed_MEAN',\n",
       " 'POS_NAME_CONTRACT_STATUS_XNA_MEAN',\n",
       " 'POS_NAME_CONTRACT_STATUS_nan_MEAN',\n",
       " 'POS_COUNT',\n",
       " 'INSTAL_NUM_INSTALMENT_VERSION_NUNIQUE',\n",
       " 'INSTAL_DPD_MAX',\n",
       " 'INSTAL_DPD_MEAN',\n",
       " 'INSTAL_DPD_SUM',\n",
       " 'INSTAL_DBD_MAX',\n",
       " 'INSTAL_DBD_MEAN',\n",
       " 'INSTAL_DBD_SUM',\n",
       " 'INSTAL_PAYMENT_PERC_MAX',\n",
       " 'INSTAL_PAYMENT_PERC_MEAN',\n",
       " 'INSTAL_PAYMENT_PERC_SUM',\n",
       " 'INSTAL_PAYMENT_PERC_VAR',\n",
       " 'INSTAL_PAYMENT_DIFF_MAX',\n",
       " 'INSTAL_PAYMENT_DIFF_MEAN',\n",
       " 'INSTAL_PAYMENT_DIFF_SUM',\n",
       " 'INSTAL_PAYMENT_DIFF_VAR',\n",
       " 'INSTAL_AMT_INSTALMENT_MAX',\n",
       " 'INSTAL_AMT_INSTALMENT_MEAN',\n",
       " 'INSTAL_AMT_INSTALMENT_SUM',\n",
       " 'INSTAL_AMT_PAYMENT_MIN',\n",
       " 'INSTAL_AMT_PAYMENT_MAX',\n",
       " 'INSTAL_AMT_PAYMENT_MEAN',\n",
       " 'INSTAL_AMT_PAYMENT_SUM',\n",
       " 'INSTAL_DAYS_ENTRY_PAYMENT_MAX',\n",
       " 'INSTAL_DAYS_ENTRY_PAYMENT_MEAN',\n",
       " 'INSTAL_DAYS_ENTRY_PAYMENT_SUM',\n",
       " 'INSTAL_COUNT',\n",
       " 'CREDIT_CARD_Y_N']"
      ]
     },
     "execution_count": 52,
     "metadata": {},
     "output_type": "execute_result"
    }
   ],
   "source": [
    "columns.tolist()"
   ]
  },
  {
   "cell_type": "code",
   "execution_count": null,
   "metadata": {},
   "outputs": [],
   "source": []
  }
 ],
 "metadata": {
  "kernelspec": {
   "display_name": "scoring_ap",
   "language": "python",
   "name": "python3"
  },
  "language_info": {
   "codemirror_mode": {
    "name": "ipython",
    "version": 3
   },
   "file_extension": ".py",
   "mimetype": "text/x-python",
   "name": "python",
   "nbconvert_exporter": "python",
   "pygments_lexer": "ipython3",
   "version": "3.9.16"
  },
  "orig_nbformat": 4,
  "vscode": {
   "interpreter": {
    "hash": "b73ec170b477832c3a0dc906236ba7ad20650ce34dd116393f2d44a2d25f724f"
   }
  }
 },
 "nbformat": 4,
 "nbformat_minor": 2
}
