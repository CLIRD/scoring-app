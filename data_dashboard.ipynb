{
 "cells": [
  {
   "cell_type": "code",
   "execution_count": 1,
   "metadata": {},
   "outputs": [],
   "source": [
    "import pandas as pd\n",
    "import joblib\n",
    "import numpy as np\n",
    "import pickle"
   ]
  },
  {
   "cell_type": "code",
   "execution_count": 9,
   "metadata": {},
   "outputs": [],
   "source": [
    "# Données x_train normaliser pour la partie dashboard\n",
    "pipeline = joblib.load('app/models/pipeline-xgboost-scoring')\n",
    "data = pd.read_csv('data\\X_train.csv')\n",
    "nums_columns = data.select_dtypes(include=np.number).columns\n",
    "num_pipe_dashboard = pipeline[0].transformers[-1][1]\n",
    "num_pipe_dashboard.fit(data[nums_columns])\n",
    "joblib.dump(num_pipe_dashboard, 'pipeline-nums-col-scoring')\n",
    "data_scaled = num_pipe_dashboard.transform(data[nums_columns])\n",
    "data_scaled = pd.DataFrame(data_scaled, columns = nums_columns)"
   ]
  },
  {
   "cell_type": "code",
   "execution_count": 17,
   "metadata": {},
   "outputs": [],
   "source": [
    "data_scaled.to_csv('data/data.csv')"
   ]
  },
  {
   "cell_type": "code",
   "execution_count": 20,
   "metadata": {},
   "outputs": [],
   "source": [
    "with open('app/columns/columns_name.pickle', 'wb') as f:\n",
    "    pickle.dump(nums_columns, f)"
   ]
  }
 ],
 "metadata": {
  "kernelspec": {
   "display_name": "scoring_ap",
   "language": "python",
   "name": "python3"
  },
  "language_info": {
   "codemirror_mode": {
    "name": "ipython",
    "version": 3
   },
   "file_extension": ".py",
   "mimetype": "text/x-python",
   "name": "python",
   "nbconvert_exporter": "python",
   "pygments_lexer": "ipython3",
   "version": "3.9.16"
  },
  "orig_nbformat": 4,
  "vscode": {
   "interpreter": {
    "hash": "b73ec170b477832c3a0dc906236ba7ad20650ce34dd116393f2d44a2d25f724f"
   }
  }
 },
 "nbformat": 4,
 "nbformat_minor": 2
}
